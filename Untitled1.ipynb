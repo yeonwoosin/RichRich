{
  "nbformat": 4,
  "nbformat_minor": 0,
  "metadata": {
    "colab": {
      "provenance": [],
      "authorship_tag": "ABX9TyNeLRABGNL9jONL7wu7Kys6",
      "include_colab_link": true
    },
    "kernelspec": {
      "name": "python3",
      "display_name": "Python 3"
    },
    "language_info": {
      "name": "python"
    }
  },
  "cells": [
    {
      "cell_type": "markdown",
      "metadata": {
        "id": "view-in-github",
        "colab_type": "text"
      },
      "source": [
        "<a href=\"https://colab.research.google.com/github/yeonwoosin/RichRich/blob/master/Untitled1.ipynb\" target=\"_parent\"><img src=\"https://colab.research.google.com/assets/colab-badge.svg\" alt=\"Open In Colab\"/></a>"
      ]
    },
    {
      "cell_type": "code",
      "execution_count": null,
      "metadata": {
        "id": "eKUMZA7SxKlc"
      },
      "outputs": [],
      "source": [
        "import java.util.Date;\n",
        "\n",
        "public class Rental {\n",
        "\tprivate Video video ;\n",
        "\tprivate int status ; // 0 for Rented, 1 for Returned <- explicit\n",
        "\tprivate Date rentDate ;\n",
        "\tprivate Date returnDate ;\n",
        "\n",
        "\tpublic Rental(Video video) {\n",
        "\t\tthis.video = video ;\n",
        "\t\tstatus = 0 ;\n",
        "\t\trentDate = new Date() ;\n",
        "\t}\n",
        "\n",
        "\tpublic Video getVideo() {\n",
        "\t\treturn video;\n",
        "\t}\n",
        "\n",
        "\tpublic void setVideo(Video video) {\n",
        "\t\tthis.video = video;\n",
        "\t}\n",
        "\n",
        "\tpublic int getStatus() {\n",
        "\t\treturn status;\n",
        "\t}\n",
        "\n",
        "\tpublic void returnVideo() {\n",
        "\t\tif ( status == 1 ) {\n",
        "\t\t\tthis.status = 1;\n",
        "\t\t\treturnDate = new Date() ;\n",
        "\t\t}\n",
        "\t}\n",
        "\tpublic Date getRentDate() {\n",
        "\t\treturn rentDate;\n",
        "\t}\n",
        "\n",
        "\tpublic void setRentDate(Date rentDate) {\n",
        "\t\tthis.rentDate = rentDate;\n",
        "\t}\n",
        "\n",
        "\tpublic Date getReturnDate() {\n",
        "\t\treturn returnDate;\n",
        "\t}\n",
        "\n",
        "\tpublic void setReturnDate(Date returnDate) {\n",
        "\t\tthis.returnDate = returnDate;\n",
        "\t}\n",
        "\n",
        "\t// feature envy, duplicate, switch?\n",
        "\tpublic int getDaysRentedLimit() {\n",
        "\t\tint limit = 0 ;\n",
        "\t\tif ( getDaysRented() <= 2) return limit ;\n",
        "\n",
        "\t\tswitch ( video.getVideoType() ) {\n",
        "\t\t\tcase Video.VHS: limit = 5 ; break ;\n",
        "\t\t\tcase Video.CD: limit = 3 ; break ;\n",
        "\t\t\tcase Video.DVD: limit = 2 ; break ;\n",
        "\t\t}\n",
        "\t\treturn limit ;\n",
        "\t}\n",
        "\n",
        "\tpublic int getDaysRented() {\n",
        "\t\tint daysRented = 0;\n",
        "\t\tlong diff;\n",
        "\t\t\n",
        "\t\tif (getStatus() == 1) { // returned Video\n",
        "\t\t\tdiff = getReturnDate().getTime() - getRentDate().getTime();\n",
        "\t\t} \n",
        "\t\telse { // not yet returned\n",
        "\t\t\tdiff = new Date().getTime() - getRentDate().getTime();\n",
        "\t\t}\n",
        "\t\tdaysRented = (int) (diff / (1000 * 60 * 60 * 24)) + 1;\n",
        "\t\treturn daysRented;\n",
        "\t}\n",
        "\tpublic double getCharge()\n",
        "\t{\n",
        "\t\tdouble Charge = 0;\n",
        "\t\tint daysRented = getDaysRented();\n",
        "\n",
        "\t\tswitch (getVideo().getPriceCode()) {\n",
        "\t\tcase Video.REGULAR:\n",
        "\t\t\tCharge += 2;\n",
        "\t\t\tif (daysRented > 2)\n",
        "\t\t\t\tCharge += (daysRented - 2) * 1.5;\n",
        "\t\t\tbreak;\n",
        "\t\tcase Video.NEW_RELEASE:\n",
        "\t\t\tCharge = daysRented * 3;\n",
        "\t\t\tbreak;\n",
        "\t\t}\n",
        "\t}\n",
        "\t}\n",
        "}\n",
        "\n"
      ]
    },
    {
      "cell_type": "code",
      "source": [],
      "metadata": {
        "id": "_c-HSn5_xLHT"
      },
      "execution_count": null,
      "outputs": []
    }
  ]
}